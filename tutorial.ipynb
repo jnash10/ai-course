{
 "cells": [
  {
   "cell_type": "code",
   "execution_count": 3,
   "metadata": {},
   "outputs": [],
   "source": [
    "import numpy as np"
   ]
  },
  {
   "cell_type": "code",
   "execution_count": 4,
   "metadata": {},
   "outputs": [],
   "source": [
    "\n",
    "def generate_population(pop_size,nlayers,max_nfilters,max_sfilters):\n",
    "    #Given the parameters returns randomly generated population\n",
    "    \n",
    "    np.random.seed(0)\n",
    "    pop_nlayers = np.random.randint(1,max_nfilters,(pop_size,nlayers))\n",
    "    pop_sfilters = np.random.randint(1,max_sfilters,(pop_size,nlayers))\n",
    "    pop_total = np.concatenate((pop_nlayers,pop_sfilters),axis=1)\n",
    "    return pop_total"
   ]
  },
  {
   "cell_type": "code",
   "execution_count": 5,
   "metadata": {},
   "outputs": [
    {
     "data": {
      "text/plain": [
       "array([[45, 48, 65,  1,  3,  4],\n",
       "       [68, 68, 10,  9,  2,  4],\n",
       "       [84, 22, 37, 14,  4,  4],\n",
       "       [88, 71, 89,  8,  1,  2],\n",
       "       [89, 13, 59, 10, 10,  1],\n",
       "       [66, 40, 88, 11,  5,  8],\n",
       "       [47, 89, 82,  4, 12,  3],\n",
       "       [38, 26, 78,  8, 13,  3],\n",
       "       [73, 10, 21,  1,  1,  5],\n",
       "       [81, 70, 80,  6,  6,  7]])"
      ]
     },
     "execution_count": 5,
     "metadata": {},
     "output_type": "execute_result"
    }
   ],
   "source": [
    "generate_population(10, 3, 100, 15)"
   ]
  },
  {
   "cell_type": "code",
   "execution_count": null,
   "metadata": {},
   "outputs": [],
   "source": [
    "class CNN"
   ]
  }
 ],
 "metadata": {
  "kernelspec": {
   "display_name": "base",
   "language": "python",
   "name": "python3"
  },
  "language_info": {
   "codemirror_mode": {
    "name": "ipython",
    "version": 3
   },
   "file_extension": ".py",
   "mimetype": "text/x-python",
   "name": "python",
   "nbconvert_exporter": "python",
   "pygments_lexer": "ipython3",
   "version": "3.9.13"
  },
  "orig_nbformat": 4,
  "vscode": {
   "interpreter": {
    "hash": "fc0a28e9396d5935349060b5df5b942f33bdd4f5f21d7c255702f2f0b5634fb1"
   }
  }
 },
 "nbformat": 4,
 "nbformat_minor": 2
}
